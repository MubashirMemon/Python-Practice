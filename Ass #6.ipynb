{
 "cells": [
  {
   "cell_type": "markdown",
   "metadata": {},
   "source": [
    "# ASSIGNMENT # 6"
   ]
  },
  {
   "cell_type": "markdown",
   "metadata": {},
   "source": [
    "## Question 1: \n",
    "  ### Define Object Oriented Programming Language?"
   ]
  },
  {
   "cell_type": "markdown",
   "metadata": {},
   "source": [
    "Ans : Object-Oriented Programming (OOP) is a programming language model, which uses Objects and data as core components.Programming paradigm based on the concept of objects, which may contain data, in the form of fields, often known as attributes; and code, in the form of procedures, often known as methods.\n"
   ]
  },
  {
   "cell_type": "markdown",
   "metadata": {},
   "source": [
    "## Question 2: \n",
    "### List down the Benefits of OOP?"
   ]
  },
  {
   "cell_type": "markdown",
   "metadata": {},
   "source": [
    "Ans : Benefits of OOP\n",
    "    1) Modularity for easier troubleshooting \n",
    "    2) Reuse of code through inheritance \n",
    "    3) Flexibility through polymorphism\n",
    "    4) Effective problem solving\n",
    "    "
   ]
  },
  {
   "cell_type": "markdown",
   "metadata": {},
   "source": [
    "## Question 3:\n",
    "### Differentiate between function and method? "
   ]
  },
  {
   "cell_type": "markdown",
   "metadata": {},
   "source": [
    "Functions : \n",
    "Functions have independent existence means they can be defined outside of the class\n",
    "Functions do not have any reference variable \n",
    "All data that are passed to a function are explicity passed.\n",
    "\n",
    "Method: \n",
    "Methods do not have independent existence they are always defined with in class.\n",
    "Methods are defined in object oriented programming. \n",
    "Methods are used to manipulate instance variable of a class.\n"
   ]
  },
  {
   "cell_type": "markdown",
   "metadata": {},
   "source": [
    "## Question 4 : \n",
    "#### Define the following terms?\n"
   ]
  },
  {
   "cell_type": "markdown",
   "metadata": {},
   "source": [
    "### Class: \n",
    "        A class is also defined as a new data type, a user defined type which contain two things:\n",
    "        1) Data Member\n",
    "        2) Methods\n",
    "        A class defines the properties and behaviors for objects.\n",
    "        The description of a number of similar object is also called as a class.\n"
   ]
  },
  {
   "cell_type": "markdown",
   "metadata": {},
   "source": [
    "### Object : \n",
    "                An object is an instance of a class. \n",
    "                An object represents an entity in the real world that can be distinctly identified. \n",
    "                For example, a student, a desk, a circle, a button, and even a loan can all be viewed as objects. \n",
    "                Object to object communication is done via methods. \n"
   ]
  },
  {
   "cell_type": "markdown",
   "metadata": {},
   "source": [
    "\n",
    "### Attribute : \n",
    "                    The attributes are data members (class variables and instance variables) and methods, accessed via \n",
    "                    dot notation. Class variable − A variable that is shared by all instances of a class. Class variables \n",
    "                    are defined within a class but outside any of the class's methods. "
   ]
  },
  {
   "cell_type": "markdown",
   "metadata": {},
   "source": [
    "### Behavior : \n",
    "                        The behavior of an object (also known as its actions): is defined by methods. \n",
    "                    To invoke a method on an object is to ask the object to perform an action.\n",
    "                    For example, you may define methods named getArea() and getPerimeter() for circle objects.\n",
    "                    A dog has behaviors -- wagging the tail, barking, eating.\n",
    "            \n",
    "              "
   ]
  },
  {
   "cell_type": "markdown",
   "metadata": {},
   "source": [
    "### Question 5 :  Write a code in python in which create a class named it Car which have 5 attributes such like (model, color and name etc.) and 3 methods. And create 5 object instance from that class."
   ]
  },
  {
   "cell_type": "code",
   "execution_count": 1,
   "metadata": {},
   "outputs": [
    {
     "name": "stdout",
     "output_type": "stream",
     "text": [
      "Car Properties \n",
      "\n",
      "Name         :  Picanto\n",
      "Model        :  2019\n",
      "Color        :  Black\n",
      "Company      :  KIA\n",
      "Transmission :  Auto \n",
      "\n",
      "Car Properties \n",
      "\n",
      "Name         :  Terios\n",
      "Model        :  2009\n",
      "Color        :  Brown\n",
      "Company      :  Diahatsu\n",
      "Transmission :  Manual \n",
      "\n",
      "Car Properties \n",
      "\n",
      "Name         :  Corolla\n",
      "Model        :  2016\n",
      "Color        :  Black\n",
      "Company      :  Toyota\n",
      "Transmission :  Auto \n",
      "\n",
      "Car Properties \n",
      "\n",
      "Name         :  Mehran\n",
      "Model        :  2017\n",
      "Color        :  Grey\n",
      "Company      :  Suzuki\n",
      "Transmission :  Manual \n",
      "\n",
      "Car Properties \n",
      "\n",
      "Name         :  City\n",
      "Model        :  2018\n",
      "Color        :  White\n",
      "Company      :  Honda\n",
      "Transmission :  Auto \n",
      "\n",
      "Before Changing :  Picanto\n",
      "After Changing :  Pajero  \n",
      "\n",
      "Before Changing : Black\n",
      "After Changing :  Silver\n"
     ]
    }
   ],
   "source": [
    "# Class\n",
    "class Car():\n",
    "    # Init method\n",
    "    def __init__(self, name, model, color, company, transmission):\n",
    "        self.name = name\n",
    "        self.model = model\n",
    "        self.color = color\n",
    "        self.company = company\n",
    "        self.transmission = transmission\n",
    "        \n",
    "    # car_properties method\n",
    "    def car_properties(self):\n",
    "        print(\"Car Properties\", \"\\n\")\n",
    "        print(\"Name         : \",self.name)\n",
    "        print(\"Model        : \",self.model)\n",
    "        print(\"Color        : \",self.color)\n",
    "        print(\"Company      : \",self.company)\n",
    "        print(\"Transmission : \",self.transmission,\"\\n\") \n",
    "        \n",
    "    \n",
    "    # update_name method\n",
    "    def update_name(self, newname):\n",
    "        self.name = newname\n",
    "    \n",
    "    # update_color method\n",
    "    def update_color(self, newcolor):\n",
    "        self.color = newcolor\n",
    "\n",
    "\n",
    "        \n",
    "# Objects\n",
    "\n",
    "car1 = Car(\"Picanto\", 2019, \"Black\", \"KIA\", \"Auto\")\n",
    "car2 = Car(\"Terios\", 2009, \"Brown\", \"Diahatsu\", \"Manual\")\n",
    "car3 = Car(\"Corolla\", 2016, \"Black\", \"Toyota\", \"Auto\")\n",
    "car4 = Car(\"Mehran\", 2017, \"Grey\", \"Suzuki\", \"Manual\")\n",
    "car5 = Car(\"City\", 2018, \"White\", \"Honda\", \"Auto\")\n",
    "\n",
    "# Methods calling\n",
    "car1.car_properties()\n",
    "car2.car_properties()\n",
    "car3.car_properties()\n",
    "car4.car_properties()\n",
    "car5.car_properties()\n",
    "        \n",
    "    \n",
    "# Changing name\n",
    " # before Changing\n",
    "print(\"Before Changing : \",car1.name)\n",
    "car1.update_name(\"Pajero\")\n",
    "print(\"After Changing : \",car1.name, \" \\n\")  \n",
    "\n",
    "#Changing Color\n",
    "##Before Changing\n",
    "print(\"Before Changing :\", car1.color)\n",
    "car1.update_color(\"Silver\")\n",
    "print(\"After Changing : \", car1.color)"
   ]
  },
  {
   "cell_type": "code",
   "execution_count": null,
   "metadata": {},
   "outputs": [],
   "source": []
  }
 ],
 "metadata": {
  "kernelspec": {
   "display_name": "Python 3",
   "language": "python",
   "name": "python3"
  },
  "language_info": {
   "codemirror_mode": {
    "name": "ipython",
    "version": 3
   },
   "file_extension": ".py",
   "mimetype": "text/x-python",
   "name": "python",
   "nbconvert_exporter": "python",
   "pygments_lexer": "ipython3",
   "version": "3.7.4"
  }
 },
 "nbformat": 4,
 "nbformat_minor": 2
}
