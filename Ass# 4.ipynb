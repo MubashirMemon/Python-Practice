{
 "cells": [
  {
   "cell_type": "code",
   "execution_count": 4,
   "metadata": {},
   "outputs": [
    {
     "name": "stdout",
     "output_type": "stream",
     "text": [
      "{'First_name': 'Mubashir', 'Last_name': 'Memon', 'Age': 20, 'City': 'Hala'}\n",
      "{'First_name': 'Mubashir', 'Last_name': 'Memon', 'Age': 20, 'City': 'Hala', 'Qualification': 'Intermediate'}\n",
      "{'First_name': 'Mubashir', 'Last_name': 'Memon', 'Age': 20, 'City': 'Hala'}\n"
     ]
    }
   ],
   "source": [
    "##Task1\n",
    "Person ={\n",
    "    \"First_name\" :\"Mubashir\",\n",
    "    \"Last_name\" : \"Memon\",\n",
    "    \"Age\" : 20,\n",
    "    \"City\" : \"Hala\"\n",
    "}\n",
    "Qualification= {\"Qualification\" : \"Intermediate\"}\n",
    "print(Person)\n",
    "Person[\"Qualification\"] = \"Intermediate\"\n",
    "print(Person)\n",
    "del Person[\"Qualification\"]\n",
    "print(Person)"
   ]
  },
  {
   "cell_type": "code",
   "execution_count": 5,
   "metadata": {},
   "outputs": [
    {
     "name": "stdout",
     "output_type": "stream",
     "text": [
      "{'Country': 'Pakistan', 'Population': '1.2 Million', 'Fact': 'It is Capital City of Pakistan'}\n",
      "{'Country': 'Pakistan', 'Population': '2.54', 'Fact': 'Lahore is historically important place in the South Asia SubContinent'}\n",
      "{'Country': 'Pakistan', 'Population': '14.6 Million', 'Fact': \"Pakistan's premier industrial and financial centre\"}\n"
     ]
    }
   ],
   "source": [
    "##Task2\n",
    "Cities={\n",
    "    \"Islamabad\":{\n",
    "        \"Country\":\"Pakistan\",\n",
    "        \"Population\": \"1.2 Million\",\n",
    "        \"Fact\": \"It is Capital City of Pakistan\"\n",
    "    },\n",
    "    \"Karachi\":{\n",
    "        \"Country\" : \"Pakistan\",\n",
    "        \"Population\" : \"14.6 Million\",\n",
    "        \"Fact\" : \"Pakistan's premier industrial and financial centre\",\n",
    "    },\n",
    "    \"Lahore\":{\n",
    "        \"Country\" : \"Pakistan\",\n",
    "        \"Population\" : \"2.54\",\n",
    "        \"Fact\" : \"Lahore is historically important place in the South Asia SubContinent\" \n",
    "    }\n",
    "}\n",
    "print(Cities[\"Islamabad\"])\n",
    "print(Cities[\"Lahore\"])\n",
    "print(Cities[\"Karachi\"])"
   ]
  },
  {
   "cell_type": "code",
   "execution_count": 6,
   "metadata": {},
   "outputs": [
    {
     "name": "stdout",
     "output_type": "stream",
     "text": [
      "Enter your age :45\n",
      "The cost of Ticket for you is $15\n"
     ]
    }
   ],
   "source": [
    "##Task3\n",
    "Age=(int)(input(\"Enter your age :\"))\n",
    "if Age<3:\n",
    "    print(\"You are free of cost\")\n",
    "elif Age>=3 and Age<=12:\n",
    "    print(\"The cost of Ticket for you is $10\")\n",
    "elif Age>12:\n",
    "    print(\"The cost of Ticket for you is $15\")"
   ]
  },
  {
   "cell_type": "code",
   "execution_count": 7,
   "metadata": {},
   "outputs": [
    {
     "name": "stdout",
     "output_type": "stream",
     "text": [
      "One of my favorite books :  Alice is Wonderful\n"
     ]
    }
   ],
   "source": [
    "##Task4\n",
    "def favorite_book(Title):\n",
    "    print(\"One of my favorite books : \",(Title))\n",
    "favorite_book(\"Alice is Wonderful\")    "
   ]
  },
  {
   "cell_type": "code",
   "execution_count": 3,
   "metadata": {},
   "outputs": [
    {
     "name": "stdout",
     "output_type": "stream",
     "text": [
      "\n",
      " Guess the number (from 1 to 30): 56\n",
      "You guess is larger than the correct number\n",
      "\n",
      " Guess the number (from 1 to 30): 56\n",
      "You guess is larger than the correct number\n",
      "\n",
      " Guess the number (from 1 to 30): 56\n",
      "You guess is larger than the correct number\n",
      "YOU LOST..\n"
     ]
    }
   ],
   "source": [
    "#task 5\n",
    "import random as r\n",
    "x=3\n",
    "while x>0:\n",
    "    correct=r.randint(1,30)\n",
    "    ip=int(input(\"\\n Guess the number (from 1 to 30): \"))\n",
    "    if ip==correct:\n",
    "            print(\"\\n Correct guess... YOU WON\")\n",
    "            break\n",
    "            \n",
    "    elif ip>correct:\n",
    "        print(\"You guess is larger than the correct number\")\n",
    "        x-=1\n",
    "    elif ip<correct:\n",
    "        print(\"You guess is smaller than the correct number\")\n",
    "        x-=1\n",
    "    elif ip<1 or x>30:\n",
    "        print(\"Enter in between 1 and 30\")\n",
    "        \n",
    "if x==0:\n",
    "        print(\"YOU LOST..\")"
   ]
  },
  {
   "cell_type": "code",
   "execution_count": null,
   "metadata": {},
   "outputs": [],
   "source": []
  }
 ],
 "metadata": {
  "kernelspec": {
   "display_name": "Python 3",
   "language": "python",
   "name": "python3"
  },
  "language_info": {
   "codemirror_mode": {
    "name": "ipython",
    "version": 3
   },
   "file_extension": ".py",
   "mimetype": "text/x-python",
   "name": "python",
   "nbconvert_exporter": "python",
   "pygments_lexer": "ipython3",
   "version": "3.7.4"
  }
 },
 "nbformat": 4,
 "nbformat_minor": 2
}
