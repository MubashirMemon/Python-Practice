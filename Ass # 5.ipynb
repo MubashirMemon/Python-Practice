{
 "cells": [
  {
   "cell_type": "code",
   "execution_count": 2,
   "metadata": {},
   "outputs": [
    {
     "name": "stdout",
     "output_type": "stream",
     "text": [
      "Enter number for factiorial : 5\n",
      "120\n"
     ]
    }
   ],
   "source": [
    "##Task 1\n",
    "def factorial(n):\n",
    "    if n == 0:\n",
    "        return 1\n",
    "    else:\n",
    "        return n * factorial(n-1)\n",
    "n=int(input(\"Enter number for factiorial : \"))\n",
    "print(factorial(n))"
   ]
  },
  {
   "cell_type": "code",
   "execution_count": 22,
   "metadata": {},
   "outputs": [
    {
     "name": "stdout",
     "output_type": "stream",
     "text": [
      "Enter string :MUBashir\n",
      "No. of Upper case characters :  3\n",
      "No. of Lower case Characters :  5\n"
     ]
    }
   ],
   "source": [
    "##TASK 2\n",
    "\n",
    "def string_test(s):\n",
    "    d={\"UPPER_CASE\":0, \"LOWER_CASE\":0}\n",
    "    for c in s:\n",
    "        if c.isupper():\n",
    "           d[\"UPPER_CASE\"]+=1\n",
    "        elif c.islower():\n",
    "           d[\"LOWER_CASE\"]+=1\n",
    "        else:\n",
    "           pass\n",
    "\n",
    "    print (\"No. of Upper case characters : \", d[\"UPPER_CASE\"])\n",
    "    print (\"No. of Lower case Characters : \", d[\"LOWER_CASE\"])\n",
    "\n",
    "string_test(input(\"Enter string :\"))\n"
   ]
  },
  {
   "cell_type": "code",
   "execution_count": 4,
   "metadata": {},
   "outputs": [
    {
     "name": "stdout",
     "output_type": "stream",
     "text": [
      "[2, 4, 6, 8, 10]\n"
     ]
    }
   ],
   "source": [
    "##Task 3 \n",
    "\n",
    "def even_num(l):\n",
    "    even_num = []\n",
    "    for n in l:\n",
    "        if n % 2 == 0:\n",
    "            even_num.append(n)\n",
    "    return even_num\n",
    "print(even_num([1, 2, 3,4,5, 6, 7, 8, 9,10]))\n",
    " "
   ]
  },
  {
   "cell_type": "code",
   "execution_count": 1,
   "metadata": {},
   "outputs": [
    {
     "name": "stdout",
     "output_type": "stream",
     "text": [
      "False\n",
      "True\n"
     ]
    }
   ],
   "source": [
    "##Task 4 \n",
    "\n",
    "def isPalindrome(string):\n",
    "    leftpos= 0\n",
    "    rightpos= len(string)-1\n",
    "    while rightpos >= leftpos:\n",
    "        if not string[leftpos] == string[rightpos]:\n",
    "            return False\n",
    "        leftpos += 1\n",
    "        rightpos -=1\n",
    "    return True\n",
    "print(isPalindrome('Mubashir'))\n",
    "print(isPalindrome('aza'))\n"
   ]
  },
  {
   "cell_type": "code",
   "execution_count": 9,
   "metadata": {},
   "outputs": [
    {
     "name": "stdout",
     "output_type": "stream",
     "text": [
      "Enter the number this is prime or not : 89\n",
      "89 is a prime number\n"
     ]
    }
   ],
   "source": [
    "##Task 5\n",
    "num= int(input(\"Enter the number this is prime or not : \"))\n",
    "if num > 1:\n",
    "    for i in range (2,num):\n",
    "        if(num %i)==0:\n",
    "            print(num, \"is not a prime number\")\n",
    "            break\n",
    "    else:\n",
    "        print(num, \"is a prime number\")\n",
    "else:\n",
    "        print(num,\"is not a prime number\")\n",
    "            "
   ]
  },
  {
   "cell_type": "code",
   "execution_count": 24,
   "metadata": {},
   "outputs": [
    {
     "name": "stdout",
     "output_type": "stream",
     "text": [
      "Items : \n",
      "\tBiscuits, Mobile, Books, Coat\n"
     ]
    }
   ],
   "source": [
    "##Task 6\n",
    "\n",
    "def shopping_items(*items):\n",
    "    print(\"Items : \")\n",
    "    for item in items:\n",
    "        print(f\"\\t{item}\")\n",
    "         \n",
    "shopping_items(\"Biscuits, Mobile, Books, Coat\")"
   ]
  },
  {
   "cell_type": "code",
   "execution_count": null,
   "metadata": {},
   "outputs": [],
   "source": []
  }
 ],
 "metadata": {
  "kernelspec": {
   "display_name": "Python 3",
   "language": "python",
   "name": "python3"
  },
  "language_info": {
   "codemirror_mode": {
    "name": "ipython",
    "version": 3
   },
   "file_extension": ".py",
   "mimetype": "text/x-python",
   "name": "python",
   "nbconvert_exporter": "python",
   "pygments_lexer": "ipython3",
   "version": "3.7.4"
  }
 },
 "nbformat": 4,
 "nbformat_minor": 2
}
